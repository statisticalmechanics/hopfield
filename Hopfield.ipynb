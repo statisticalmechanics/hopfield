{
 "cells": [
  {
   "cell_type": "markdown",
   "metadata": {},
   "source": [
    "# Hopfield Model\n",
    "\n",
    "## Neural Network for Associative Memory\n",
    "\n",
    "## Its Analogy to Ising Model and Spin Glasses\n",
    "\n",
    "### Kai Zhang, Columbia University, 2018\n",
    "\n",
    "Ref: \n",
    "\n",
    "J. J. Hopfield (1982), Neural networks and physical systems with emergent collective computational abilities\n",
    "\n",
    "D. J. Amit, H. Gutfreund and H. Sompolinsky (1985), Spin-glass models of neural networks"
   ]
  },
  {
   "cell_type": "code",
   "execution_count": 1,
   "metadata": {},
   "outputs": [],
   "source": [
    "import numpy as np\n",
    "import matplotlib.pyplot as plt\n",
    "import math"
   ]
  },
  {
   "cell_type": "code",
   "execution_count": null,
   "metadata": {},
   "outputs": [],
   "source": [
    "import warnings\n",
    "warnings.filterwarnings('ignore')"
   ]
  },
  {
   "cell_type": "code",
   "execution_count": 2,
   "metadata": {},
   "outputs": [],
   "source": [
    "def Spin_to_Occupancy(s):\n",
    "    \"\"\"\n",
    "    -1, 1 to 0, 1\n",
    "    \"\"\"\n",
    "    n = (s + 1)/2\n",
    "    return n\n",
    "\n",
    "def Occupancy_to_Spin(n):\n",
    "    \"\"\"\n",
    "    0, 1 to -1, 1\n",
    "    \"\"\"\n",
    "    s = n*2 - 1\n",
    "    return s\n",
    "\n",
    "def OneD_to_TwoD(A):\n",
    "    \"\"\"\n",
    "    A: p by N array\n",
    "    B: p by sqrt(N) by sqrt(N)\n",
    "    \"\"\"\n",
    "    p = A.shape[0]\n",
    "    n = A.shape[1]\n",
    "    nx = int(math.sqrt(n))    \n",
    "    B = np.reshape(A, (p, nx, nx))\n",
    "    \n",
    "    return B\n",
    "\n",
    "def PlotOnePattern(s):\n",
    "    \"\"\"\n",
    "    s: one d spin array of length N\n",
    "    \"\"\"\n",
    "    s = s.reshape(1, -1)\n",
    "    #n = Spin_to_Occupancy(s)\n",
    "    n2D = OneD_to_TwoD(s)\n",
    "    plt.imshow(n2D[0],cmap=\"gray\",vmin=-1, vmax=1)\n",
    "\n",
    "def PlotAllPattern(s, ni, nj):\n",
    "    #n = Spin_to_Occupancy(s)\n",
    "    n2D = OneD_to_TwoD(s)\n",
    "        \n",
    "    fig, axes = plt.subplots(ni,nj,figsize=(3*ni,3*nj))\n",
    "    for i in range(ni):\n",
    "        for j in range(nj):\n",
    "            k = i*ni + j\n",
    "            axes[i][j].imshow(n2D[k, :, :],cmap=\"gray\",vmin=-1, vmax=1)\n",
    "\n",
    "\n",
    "def Energy(S, w):\n",
    "    \"\"\"\n",
    "    w: N by N weight matrix\n",
    "    S: array of length N\n",
    "    \"\"\"\n",
    "    H = np.dot(S, np.dot(w, S.T))\n",
    "    H = -0.5 * H\n",
    "    \n",
    "    return H\n",
    "\n",
    "def McCullochPitts(S, i, w):\n",
    "    \"\"\"\n",
    "    S: array of length N\n",
    "    \"\"\"    \n",
    "    Si = int(np.sign(np.sum(w[i, :] * S)))\n",
    "    S[i] = Si\n",
    "    \n",
    "    return S \n",
    "\n",
    "\n",
    "def Glauber(S, i, w, beta):\n",
    "    \"\"\"\n",
    "    S: array of length N\n",
    "    \"\"\"  \n",
    "    hi = np.sum(w[i, :] * S)\n",
    "    gh = 1.0 / (1.0 + math.exp(-np.clip(2.0*beta*hi, -250, 250)))\n",
    "    \n",
    "    if np.random.rand() < gh:\n",
    "        S[i] = 1\n",
    "    else:\n",
    "        S[i] = -1\n",
    "    \n",
    "    return S "
   ]
  },
  {
   "cell_type": "markdown",
   "metadata": {},
   "source": [
    "## Stored Patterns (retrieval states)\n",
    "p: number of patterns to be stored\n",
    "\n",
    "N: number of neurons\n",
    "\n",
    "$\\xi_i^{\\mu} = \\pm 1$: value of pattern $\\mu$ of neuron $i$\n",
    "\n",
    "$S_i = \\pm 1$: value of neuron $i$ at any moment"
   ]
  },
  {
   "cell_type": "code",
   "execution_count": 3,
   "metadata": {},
   "outputs": [],
   "source": [
    "p = 25\n",
    "N = 100\n",
    "np.random.seed(seed=123)\n",
    "xi_occ = np.random.randint(2, size=(p, N)) \n",
    "xi = Occupancy_to_Spin(xi_occ)"
   ]
  },
  {
   "cell_type": "markdown",
   "metadata": {},
   "source": [
    "### Plot patterns: 0/1  = black/white or -1/1  = black/white"
   ]
  },
  {
   "cell_type": "code",
   "execution_count": 4,
   "metadata": {},
   "outputs": [
    {
     "data": {
      "image/png": "[encoded data removed]",
      "text/plain": [
       "<matplotlib.figure.Figure at 0x10f6624a8>"
      ]
     },
     "metadata": {},
     "output_type": "display_data"
    }
   ],
   "source": [
    "PlotAllPattern(xi, 5, 5) "
   ]
  },
  {
   "cell_type": "markdown",
   "metadata": {},
   "source": [
    "# Hebb rule\n",
    "connection strength (weight) between neuron $i$ and $j$\n",
    "\n",
    "$w_{ij} = \\frac{1}{N} \\sum_{\\mu=1}^p \\xi_i^{\\mu} \\xi_j^{\\mu}$, $i, j = 1, 2, \\dots, N$"
   ]
  },
  {
   "cell_type": "code",
   "execution_count": 5,
   "metadata": {},
   "outputs": [],
   "source": [
    "w = np.zeros((N, N))\n",
    "\n",
    "for i in range(N):\n",
    "    for j in range(N):\n",
    "        for mu in range(p):\n",
    "            w[i][j] = w[i][j] + xi[mu, i]*xi[mu, j]\n",
    "        w[i][j] = w[i][j] / N       "
   ]
  },
  {
   "cell_type": "code",
   "execution_count": 6,
   "metadata": {},
   "outputs": [
    {
     "name": "stdout",
     "output_type": "stream",
     "text": [
      "(100, 100)\n"
     ]
    },
    {
     "data": {
      "text/plain": [
       "array([[ 0.25,  0.03, -0.09, ...,  0.09,  0.03,  0.05],\n",
       "       [ 0.03,  0.25,  0.01, ...,  0.03,  0.01,  0.03],\n",
       "       [-0.09,  0.01,  0.25, ..., -0.05,  0.01,  0.03],\n",
       "       ...,\n",
       "       [ 0.09,  0.03, -0.05, ...,  0.25,  0.07,  0.05],\n",
       "       [ 0.03,  0.01,  0.01, ...,  0.07,  0.25,  0.07],\n",
       "       [ 0.05,  0.03,  0.03, ...,  0.05,  0.07,  0.25]])"
      ]
     },
     "execution_count": 6,
     "metadata": {},
     "output_type": "execute_result"
    },
    {
     "data": {
      "image/png": "[encoded data removed]",
      "text/plain": [
       "<matplotlib.figure.Figure at 0x110a15908>"
      ]
     },
     "metadata": {},
     "output_type": "display_data"
    }
   ],
   "source": [
    "plt.imshow(w,cmap=\"gray\") # , vmin=-0.04, vmax=0.04\n",
    "print(w.shape)\n",
    "w"
   ]
  },
  {
   "cell_type": "markdown",
   "metadata": {},
   "source": [
    "### Hopfield energy function\n",
    "\n",
    "$H = -\\frac{1}{2} \\sum_i\\sum_j w_{ij} S_i S_j = -\\frac{1}{2N} \\sum_{\\mu=1}^p (\\sum_i S_i\\xi_i)^2$"
   ]
  },
  {
   "cell_type": "code",
   "execution_count": 7,
   "metadata": {},
   "outputs": [],
   "source": [
    "E_retrieval = []\n",
    "index = range(p)\n",
    "for mu in range(p):\n",
    "    E_retrieval.append(Energy(xi[mu], w))"
   ]
  },
  {
   "cell_type": "code",
   "execution_count": 8,
   "metadata": {},
   "outputs": [
    {
     "data": {
      "image/png": "[encoded data removed]",
      "text/plain": [
       "<matplotlib.figure.Figure at 0x110c5a7b8>"
      ]
     },
     "metadata": {},
     "output_type": "display_data"
    }
   ],
   "source": [
    "plt.figure()\n",
    "\n",
    "plt.xlabel('Retrieval States')\n",
    "plt.ylabel('Energy')\n",
    "\n",
    "plt.plot(index, E_retrieval, 'bo-', mfc='none')\n",
    "\n",
    "plt.show()"
   ]
  },
  {
   "cell_type": "markdown",
   "metadata": {},
   "source": [
    "## Initial State"
   ]
  },
  {
   "cell_type": "markdown",
   "metadata": {},
   "source": [
    "### reverse state\n",
    "\n",
    "$S_i = - \\xi_i^{\\mu}$"
   ]
  },
  {
   "cell_type": "code",
   "execution_count": 9,
   "metadata": {},
   "outputs": [],
   "source": [
    "S = np.copy(-xi[0])"
   ]
  },
  {
   "cell_type": "code",
   "execution_count": 10,
   "metadata": {},
   "outputs": [
    {
     "data": {
      "image/png": "[encoded data removed]",
      "text/plain": [
       "<matplotlib.figure.Figure at 0x1110d8ac8>"
      ]
     },
     "metadata": {},
     "output_type": "display_data"
    }
   ],
   "source": [
    "plt.figure(figsize=(9,9))\n",
    "\n",
    "plt.subplot(131)\n",
    "PlotOnePattern(S)\n",
    "\n",
    "plt.subplot(132)\n",
    "PlotOnePattern(xi[0])\n",
    "\n",
    "plt.subplot(133)\n",
    "PlotOnePattern(S*xi[0])\n",
    "\n",
    "#plt.show()"
   ]
  },
  {
   "cell_type": "markdown",
   "metadata": {},
   "source": [
    "### 3 - mixture state\n",
    "\n",
    "$S_i = {\\rm sign} (\\pm \\xi_i^{\\lambda} \\pm \\xi_i^{\\mu} \\pm \\xi_i^{\\nu} )$"
   ]
  },
  {
   "cell_type": "code",
   "execution_count": 11,
   "metadata": {},
   "outputs": [],
   "source": [
    "c0=1\n",
    "c1=-1\n",
    "c2=1\n",
    "\n",
    "S0 = np.sign(np.copy(c0*xi[0] + c1*xi[1] + c2*xi[2]) )\n",
    "S = S0"
   ]
  },
  {
   "cell_type": "code",
   "execution_count": 12,
   "metadata": {},
   "outputs": [
    {
     "data": {
      "image/png": "[encoded data removed]",
      "text/plain": [
       "<matplotlib.figure.Figure at 0x110ac80f0>"
      ]
     },
     "metadata": {},
     "output_type": "display_data"
    }
   ],
   "source": [
    "plt.figure(figsize=(9,9))\n",
    "\n",
    "plt.subplot(331)\n",
    "PlotOnePattern(xi[0])\n",
    "\n",
    "plt.subplot(332)\n",
    "PlotOnePattern(xi[1])\n",
    "\n",
    "plt.subplot(333)\n",
    "PlotOnePattern(xi[2])\n",
    "\n",
    "plt.subplot(335)\n",
    "PlotOnePattern(S)\n",
    "\n",
    "\n",
    "plt.subplot(337)\n",
    "PlotOnePattern(S*xi[0])\n",
    "\n",
    "plt.subplot(338)\n",
    "PlotOnePattern(S*xi[1])\n",
    "\n",
    "plt.subplot(339)\n",
    "PlotOnePattern(S*xi[2])\n"
   ]
  },
  {
   "cell_type": "markdown",
   "metadata": {},
   "source": [
    "### random state\n",
    "\n",
    "$S_i =  \\xi_i^{\\mu} + noise$ "
   ]
  },
  {
   "cell_type": "code",
   "execution_count": 16,
   "metadata": {},
   "outputs": [],
   "source": [
    "np.random.seed(seed=123)\n",
    "noise_level = 0.3\n",
    "S = np.copy(xi[0])\n",
    "for i in range(N):\n",
    "    if np.random.rand() < noise_level:\n",
    "        S[i] = -S[i]"
   ]
  },
  {
   "cell_type": "code",
   "execution_count": 14,
   "metadata": {},
   "outputs": [
    {
     "data": {
      "image/png": "[encoded data removed]",
      "text/plain": [
       "<matplotlib.figure.Figure at 0x110a173c8>"
      ]
     },
     "metadata": {},
     "output_type": "display_data"
    }
   ],
   "source": [
    "plt.figure(figsize=(9,9))\n",
    "\n",
    "plt.subplot(131)\n",
    "PlotOnePattern(S)\n",
    "\n",
    "plt.subplot(132)\n",
    "PlotOnePattern(xi[0])\n",
    "\n",
    "plt.subplot(133)\n",
    "PlotOnePattern(S*xi[0])"
   ]
  },
  {
   "cell_type": "markdown",
   "metadata": {},
   "source": [
    "### McCulloch-Pitts deterministic rule\n",
    "\n",
    "$S_i = {\\rm sign}(\\sum_{j=1}^N w_{ij} S_j)$"
   ]
  },
  {
   "cell_type": "code",
   "execution_count": 15,
   "metadata": {},
   "outputs": [
    {
     "name": "stdout",
     "output_type": "stream",
     "text": [
      "initial energy:  -29.12\n",
      "epoch:  0 \tenergy:  -48.5\n",
      "epoch:  1 \tenergy:  -60.34000000000001\n",
      "epoch:  2 \tenergy:  -60.96000000000001\n",
      "epoch:  3 \tenergy:  -61.78\n",
      "epoch:  4 \tenergy:  -61.78\n",
      "epoch:  5 \tenergy:  -61.78\n",
      "epoch:  6 \tenergy:  -61.78\n",
      "epoch:  7 \tenergy:  -61.78\n",
      "epoch:  8 \tenergy:  -61.78\n",
      "epoch:  9 \tenergy:  -61.78\n",
      "epoch:  10 \tenergy:  -61.78\n",
      "epoch:  11 \tenergy:  -61.78\n",
      "epoch:  12 \tenergy:  -61.78\n",
      "epoch:  13 \tenergy:  -61.78\n",
      "epoch:  14 \tenergy:  -61.78\n",
      "epoch:  15 \tenergy:  -61.78\n",
      "epoch:  16 \tenergy:  -61.78\n",
      "epoch:  17 \tenergy:  -61.78\n",
      "epoch:  18 \tenergy:  -61.78\n",
      "epoch:  19 \tenergy:  -61.78\n",
      "epoch:  20 \tenergy:  -61.78\n",
      "epoch:  21 \tenergy:  -61.78\n",
      "epoch:  22 \tenergy:  -61.78\n",
      "epoch:  23 \tenergy:  -61.78\n",
      "epoch:  24 \tenergy:  -61.78\n",
      "epoch:  25 \tenergy:  -61.78\n",
      "epoch:  26 \tenergy:  -61.78\n",
      "epoch:  27 \tenergy:  -61.78\n",
      "epoch:  28 \tenergy:  -61.78\n",
      "epoch:  29 \tenergy:  -61.78\n"
     ]
    },
    {
     "data": {
      "image/png": "[encoded data removed]",
      "text/plain": [
       "<matplotlib.figure.Figure at 0x1109c2e80>"
      ]
     },
     "metadata": {},
     "output_type": "display_data"
    }
   ],
   "source": [
    "n_epoch = 30\n",
    "batch_size = 100\n",
    "\n",
    "np.random.seed(seed=123)\n",
    "#ilist = range(batch_size)\n",
    "\n",
    "epochlist = []\n",
    "energy = []\n",
    "H = Energy(S, w)\n",
    "print(\"initial energy: \", H)\n",
    "\n",
    "for epoch in range(n_epoch):\n",
    "    ilist =  np.random.randint(N, size = batch_size)\n",
    "    for batch in range(batch_size):\n",
    "        i = ilist[batch]\n",
    "        S = McCullochPitts(S, i, w)\n",
    "        H = Energy(S, w)\n",
    "    epochlist.append(epoch)\n",
    "    energy.append(H)\n",
    "    print('epoch: ', epoch, \"\\tenergy: \", H)\n",
    "\n",
    "PlotOnePattern(S*xi[0])\n",
    "#plt.show()"
   ]
  },
  {
   "cell_type": "markdown",
   "metadata": {},
   "source": [
    "### Glauber stochasitic dynamics at temperature $\\beta=1/T$\n",
    "\n",
    "$h_i = \\sum_{j=1}^N w_{ij} S_j$\n",
    "\n",
    "$g_i = \\frac{1}{1 + \\exp(-2\\beta h_i)} = {\\rm Prob}(S_i =  1)$\n",
    "\n",
    "$\\langle S_i \\rangle = g_i - (1-g_i) = \\tanh (\\beta h_i)$"
   ]
  },
  {
   "cell_type": "code",
   "execution_count": 17,
   "metadata": {},
   "outputs": [
    {
     "name": "stdout",
     "output_type": "stream",
     "text": [
      "initial energy:  -29.12\n",
      "epoch:  0 \tenergy:  -48.48000000000001\n",
      "epoch:  1 \tenergy:  -52.64\n",
      "epoch:  2 \tenergy:  -57.680000000000014\n",
      "epoch:  3 \tenergy:  -57.68000000000001\n",
      "epoch:  4 \tenergy:  -60.900000000000006\n",
      "epoch:  5 \tenergy:  -60.96000000000001\n",
      "epoch:  6 \tenergy:  -60.96000000000001\n",
      "epoch:  7 \tenergy:  -61.680000000000014\n",
      "epoch:  8 \tenergy:  -61.680000000000014\n",
      "epoch:  9 \tenergy:  -61.680000000000014\n",
      "epoch:  10 \tenergy:  -62.10000000000001\n",
      "epoch:  11 \tenergy:  -61.46000000000001\n",
      "epoch:  12 \tenergy:  -61.52000000000001\n",
      "epoch:  13 \tenergy:  -61.52\n",
      "epoch:  14 \tenergy:  -61.78000000000001\n",
      "epoch:  15 \tenergy:  -61.78000000000001\n",
      "epoch:  16 \tenergy:  -61.92000000000001\n",
      "epoch:  17 \tenergy:  -61.92\n",
      "epoch:  18 \tenergy:  -61.92000000000001\n",
      "epoch:  19 \tenergy:  -61.92\n",
      "epoch:  20 \tenergy:  -61.92000000000001\n",
      "epoch:  21 \tenergy:  -61.78000000000001\n",
      "epoch:  22 \tenergy:  -61.78000000000001\n",
      "epoch:  23 \tenergy:  -61.78000000000001\n",
      "epoch:  24 \tenergy:  -62.10000000000001\n",
      "epoch:  25 \tenergy:  -62.000000000000014\n",
      "epoch:  26 \tenergy:  -62.02\n",
      "epoch:  27 \tenergy:  -62.02000000000001\n",
      "epoch:  28 \tenergy:  -62.02\n",
      "epoch:  29 \tenergy:  -62.02000000000001\n",
      "epoch:  30 \tenergy:  -62.02\n",
      "epoch:  31 \tenergy:  -62.000000000000014\n",
      "epoch:  32 \tenergy:  -62.00000000000001\n",
      "epoch:  33 \tenergy:  -62.000000000000014\n",
      "epoch:  34 \tenergy:  -62.00000000000001\n",
      "epoch:  35 \tenergy:  -62.000000000000014\n",
      "epoch:  36 \tenergy:  -62.00000000000001\n",
      "epoch:  37 \tenergy:  -62.10000000000001\n",
      "epoch:  38 \tenergy:  -62.16000000000001\n",
      "epoch:  39 \tenergy:  -62.160000000000004\n",
      "epoch:  40 \tenergy:  -62.16000000000001\n",
      "epoch:  41 \tenergy:  -62.34\n",
      "epoch:  42 \tenergy:  -62.34\n",
      "epoch:  43 \tenergy:  -62.64000000000001\n",
      "epoch:  44 \tenergy:  -63.38000000000001\n",
      "epoch:  45 \tenergy:  -63.38000000000001\n",
      "epoch:  46 \tenergy:  -63.28\n",
      "epoch:  47 \tenergy:  -63.280000000000015\n",
      "epoch:  48 \tenergy:  -63.28\n",
      "epoch:  49 \tenergy:  -63.280000000000015\n",
      "epoch:  50 \tenergy:  -63.28\n",
      "epoch:  51 \tenergy:  -63.280000000000015\n",
      "epoch:  52 \tenergy:  -63.28\n",
      "epoch:  53 \tenergy:  -62.82\n",
      "epoch:  54 \tenergy:  -62.82000000000001\n",
      "epoch:  55 \tenergy:  -63.140000000000015\n",
      "epoch:  56 \tenergy:  -63.360000000000014\n",
      "epoch:  57 \tenergy:  -63.36000000000001\n",
      "epoch:  58 \tenergy:  -63.360000000000014\n",
      "epoch:  59 \tenergy:  -63.36000000000001\n",
      "epoch:  60 \tenergy:  -63.06\n",
      "epoch:  61 \tenergy:  -63.06\n",
      "epoch:  62 \tenergy:  -63.28\n",
      "epoch:  63 \tenergy:  -63.140000000000015\n",
      "epoch:  64 \tenergy:  -63.14000000000001\n",
      "epoch:  65 \tenergy:  -63.140000000000015\n",
      "epoch:  66 \tenergy:  -63.360000000000014\n",
      "epoch:  67 \tenergy:  -63.36000000000001\n",
      "epoch:  68 \tenergy:  -63.360000000000014\n",
      "epoch:  69 \tenergy:  -63.36000000000001\n",
      "epoch:  70 \tenergy:  -63.360000000000014\n",
      "epoch:  71 \tenergy:  -63.36000000000001\n",
      "epoch:  72 \tenergy:  -62.66000000000001\n",
      "epoch:  73 \tenergy:  -63.36000000000001\n",
      "epoch:  74 \tenergy:  -63.360000000000014\n",
      "epoch:  75 \tenergy:  -62.98000000000001\n",
      "epoch:  76 \tenergy:  -62.980000000000004\n",
      "epoch:  77 \tenergy:  -62.98000000000001\n",
      "epoch:  78 \tenergy:  -63.360000000000014\n",
      "epoch:  79 \tenergy:  -63.36000000000001\n"
     ]
    },
    {
     "data": {
      "image/png": "[encoded data removed]",
      "text/plain": [
       "<matplotlib.figure.Figure at 0x10f721240>"
      ]
     },
     "metadata": {},
     "output_type": "display_data"
    }
   ],
   "source": [
    "n_epoch = 80\n",
    "batch_size = 100\n",
    "beta = 5.0\n",
    "\n",
    "np.random.seed(seed=123)\n",
    "#ilist = range(batch_size)\n",
    "\n",
    "epochlist2 = []\n",
    "energy2 = []\n",
    "H = Energy(S, w)\n",
    "print(\"initial energy: \", H)\n",
    "\n",
    "for epoch in range(n_epoch):\n",
    "    ilist =  np.random.randint(N, size = batch_size)\n",
    "    for batch in range(batch_size):\n",
    "        i = ilist[batch]\n",
    "        S = Glauber(S, i, w, beta)\n",
    "        H = Energy(S, w)\n",
    "    epochlist2.append(epoch)\n",
    "    energy2.append(H)\n",
    "    print('epoch: ', epoch, \"\\tenergy: \", H)\n",
    "\n",
    "PlotOnePattern(S*xi[0])\n"
   ]
  },
  {
   "cell_type": "code",
   "execution_count": 18,
   "metadata": {},
   "outputs": [
    {
     "data": {
      "image/png": "[encoded data removed]",
      "text/plain": [
       "<matplotlib.figure.Figure at 0x10f6be978>"
      ]
     },
     "metadata": {},
     "output_type": "display_data"
    }
   ],
   "source": [
    "plt.figure()\n",
    "\n",
    "plt.xlabel('Step')\n",
    "plt.ylabel('Energy')\n",
    "\n",
    "plt.plot(epochlist, energy, 'bo-', mfc='none')\n",
    "plt.plot(epochlist2, energy2, 'rx-', mfc='none')\n",
    "\n",
    "plt.legend(['deterministic', 'stochastic'])\n",
    "\n",
    "plt.show()"
   ]
  },
  {
   "cell_type": "code",
   "execution_count": null,
   "metadata": {},
   "outputs": [],
   "source": []
  },
  {
   "cell_type": "code",
   "execution_count": null,
   "metadata": {},
   "outputs": [],
   "source": []
  }
 ],
 "metadata": {
  "kernelspec": {
   "display_name": "Python 3",
   "language": "python",
   "name": "python3"
  },
  "language_info": {
   "codemirror_mode": {
    "name": "ipython",
    "version": 3
   },
   "file_extension": ".py",
   "mimetype": "text/x-python",
   "name": "python",
   "nbconvert_exporter": "python",
   "pygments_lexer": "ipython3",
   "version": "3.6.4"
  }
 },
 "nbformat": 4,
 "nbformat_minor": 2
}
